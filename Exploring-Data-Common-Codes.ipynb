{
 "cells": [
  {
   "cell_type": "markdown",
   "id": "58e2efcd-da26-4e12-bcef-af85825c75ef",
   "metadata": {},
   "source": [
    "# DATA WRANGLING AND VISUALIZATIONS COMMON CODES:\n",
    "---"
   ]
  },
  {
   "cell_type": "markdown",
   "id": "67b2f186-7f05-49c8-baca-00b94961c463",
   "metadata": {},
   "source": [
    "### Viewing the Dataset:\n",
    "    \n",
    "#### Python:\n",
    "\n",
    "Entire Dataset:\n",
    "```python\n",
    "datasetName()\n",
    "```\n",
    "\n",
    "\n",
    "Top 5 columns:\n",
    "```python\n",
    "DatasetName.head()\n",
    "```\n",
    "\n",
    "#### R:\n",
    "Entire Dataset:\n",
    "```r\n",
    "View(DatasetName)\n",
    "```\n",
    "\n",
    "\n",
    "Top 5 columns:\n",
    "```r\n",
    "head(DatasetName)\n",
    "```\n",
    "---"
   ]
  },
  {
   "cell_type": "markdown",
   "id": "2bd3ea7f-a9ae-4444-8992-d52e8c3c9822",
   "metadata": {},
   "source": [
    "### Viewing Columns Names:\n",
    "    \n",
    "#### Python:\n",
    "```python\n",
    "datasetName.columns()\n",
    "```\n",
    "\n",
    "#### R:\n",
    "```r\n",
    "names(dataFrame)\n",
    "\n",
    "or\n",
    "\n",
    "colnames(dataFrame)\n",
    "```\n",
    "---"
   ]
  },
  {
   "cell_type": "markdown",
   "id": "18425688-1649-4a75-a41a-dc739d7372f9",
   "metadata": {},
   "source": [
    "### Column Variables:\n",
    "    \n",
    "#### Python:\n",
    "```python\n",
    "df.column.value_counts()\n",
    "```\n",
    "\n",
    "#### R:\n",
    "```r\n",
    "unique(Dataset$column)\n",
    "```\n",
    "---"
   ]
  },
  {
   "cell_type": "markdown",
   "id": "58a0a2dc-2b6e-4c7a-9a71-233d38844811",
   "metadata": {},
   "source": [
    "### Data Structure:\n",
    "    \n",
    "#### Python:\n",
    "```python\n",
    "Dataset.info()\n",
    "```\n",
    "\n",
    "#### R:\n",
    "```r\n",
    "str(datasetName)\n",
    "```\n",
    "---"
   ]
  },
  {
   "cell_type": "markdown",
   "id": "3c8aa7f4-e734-4ea3-b7ba-d6583c1fb4ad",
   "metadata": {},
   "source": [
    "### Basic Statistics:\n",
    "    \n",
    "#### Python:\n",
    "```python\n",
    "# count, max, min, quartiles, std, mean\n",
    "Dataset.describe()\n",
    "```\n",
    "\n",
    "#### R:\n",
    "```r\n",
    "# count, max, min, quartiles, std, mean\n",
    "summary(datasetName)\n",
    "```\n",
    "---"
   ]
  },
  {
   "cell_type": "markdown",
   "id": "178d451e-ff56-4ed7-ba3a-3ed30bd9f6a4",
   "metadata": {},
   "source": [
    "### Removing Missing Values:\n",
    "    \n",
    "#### Python:\n",
    "```python\n",
    "dataset.dropna(inplace=True)\n",
    "```\n",
    "\n",
    "#### R:\n",
    "```r\n",
    "newdatasetName <- na.omit(\"OriginalDataset\")\n",
    "newdatasetName <- NaRV.omit(\"OriginalDataset\")\n",
    "```\n",
    "\n",
    "- Refer to [Missing Data Impuation Notebook]() for more advanced cleaning. \n",
    "---"
   ]
  },
  {
   "cell_type": "code",
   "execution_count": null,
   "id": "f0f99a0c-401c-4a51-a7b6-49031b5f31e1",
   "metadata": {},
   "outputs": [],
   "source": []
  }
 ],
 "metadata": {
  "kernelspec": {
   "display_name": "Python 3 (ipykernel)",
   "language": "python",
   "name": "python3"
  },
  "language_info": {
   "codemirror_mode": {
    "name": "ipython",
    "version": 3
   },
   "file_extension": ".py",
   "mimetype": "text/x-python",
   "name": "python",
   "nbconvert_exporter": "python",
   "pygments_lexer": "ipython3",
   "version": "3.9.13"
  }
 },
 "nbformat": 4,
 "nbformat_minor": 5
}
