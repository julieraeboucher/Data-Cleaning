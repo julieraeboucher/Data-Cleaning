{
 "cells": [
  {
   "cell_type": "markdown",
   "id": "58e2efcd-da26-4e12-bcef-af85825c75ef",
   "metadata": {},
   "source": [
    "# DATA WRANGLING AND VISUALIZATIONS COMMON CODES:\n",
    "---"
   ]
  },
  {
   "cell_type": "markdown",
   "id": "67b2f186-7f05-49c8-baca-00b94961c463",
   "metadata": {},
   "source": [
    "### Viewing the Dataset:\n",
    "    \n",
    "#### Python:\n",
    "\n",
    "Entire Dataset:\n",
    "```python\n",
    "datasetName()\n",
    "```\n",
    "\n",
    "\n",
    "Top 5 columns:\n",
    "```python\n",
    "DatasetName.head()\n",
    "```\n",
    "\n",
    "#### R:\n",
    "Entire Dataset:\n",
    "```r\n",
    "View(DatasetName)\n",
    "```\n",
    "\n",
    "\n",
    "Top 5 columns:\n",
    "```r\n",
    "head(DatasetName)\n",
    "```\n",
    "---"
   ]
  },
  {
   "cell_type": "markdown",
   "id": "2bd3ea7f-a9ae-4444-8992-d52e8c3c9822",
   "metadata": {},
   "source": [
    "### Viewing Columns Names:\n",
    "    \n",
    "#### Python:\n",
    "```python\n",
    "datasetName.columns()\n",
    "```\n",
    "\n",
    "#### R:\n",
    "```r\n",
    "names(dataFrame)\n",
    "\n",
    "or\n",
    "\n",
    "colnames(dataFrame)\n",
    "```\n",
    "---"
   ]
  },
  {
   "cell_type": "code",
   "execution_count": null,
   "id": "237934a9-4d86-49c5-89c4-4a00488204b3",
   "metadata": {},
   "outputs": [],
   "source": []
  }
 ],
 "metadata": {
  "kernelspec": {
   "display_name": "Python 3 (ipykernel)",
   "language": "python",
   "name": "python3"
  },
  "language_info": {
   "codemirror_mode": {
    "name": "ipython",
    "version": 3
   },
   "file_extension": ".py",
   "mimetype": "text/x-python",
   "name": "python",
   "nbconvert_exporter": "python",
   "pygments_lexer": "ipython3",
   "version": "3.9.13"
  }
 },
 "nbformat": 4,
 "nbformat_minor": 5
}
